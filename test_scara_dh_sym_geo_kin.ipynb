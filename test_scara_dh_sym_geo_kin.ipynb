{
 "cells": [
  {
   "cell_type": "code",
   "execution_count": 1,
   "id": "e3f7cf6d",
   "metadata": {},
   "outputs": [],
   "source": [
    "import sympy\n",
    "import numpy\n",
    "from math import cos, sin\n",
    "\n",
    "import sympybotics\n",
    "from sympybotics._compatibility_ import exec_\n",
    "\n",
    "pi = sympy.pi\n",
    "q = sympybotics.robotdef.q\n",
    "\n",
    "a1, a2, d3, d4 = sympy.symbols('a1, a2, d3, d4')"
   ]
  },
  {
   "cell_type": "code",
   "execution_count": 2,
   "id": "ac2b1a9b",
   "metadata": {},
   "outputs": [],
   "source": [
    "scara = sympybotics.robotdef.RobotDef(\n",
    "    'SCARA - Spong',\n",
    "    [( 0, a1,  0, q),\n",
    "     (pi, a2,  0, q),\n",
    "     ( 0,  0,  q, 0),\n",
    "     ( 0,  0, d4, q)],\n",
    "    dh_convention='standard')"
   ]
  },
  {
   "cell_type": "code",
   "execution_count": 3,
   "id": "3aa26262",
   "metadata": {},
   "outputs": [],
   "source": [
    "scara_geo = sympybotics.geometry.Geometry(scara)\n",
    "scara_kin = sympybotics.kinematics.Kinematics(scara, scara_geo)\n",
    "\n",
    "cos, sin = sympy.cos, sympy.sin\n",
    "q1, q2, q3, q4 = sympy.flatten(scara.q)"
   ]
  },
  {
   "cell_type": "code",
   "execution_count": 4,
   "id": "568dd3fc",
   "metadata": {},
   "outputs": [
    {
     "name": "stdout",
     "output_type": "stream",
     "text": [
      "Matrix([[(-sin(q1)*sin(q2) + cos(q1)*cos(q2))*cos(q4) + (sin(q1)*cos(q2) + sin(q2)*cos(q1))*sin(q4), -(-sin(q1)*sin(q2) + cos(q1)*cos(q2))*sin(q4) + (sin(q1)*cos(q2) + sin(q2)*cos(q1))*cos(q4), 0, a1*cos(q1) - a2*sin(q1)*sin(q2) + a2*cos(q1)*cos(q2)], [(sin(q1)*sin(q2) - cos(q1)*cos(q2))*sin(q4) + (sin(q1)*cos(q2) + sin(q2)*cos(q1))*cos(q4), (sin(q1)*sin(q2) - cos(q1)*cos(q2))*cos(q4) - (sin(q1)*cos(q2) + sin(q2)*cos(q1))*sin(q4), 0, a1*sin(q1) + a2*sin(q1)*cos(q2) + a2*sin(q2)*cos(q1)], [0, 0, -1, -d4 - q3], [0, 0, 0, 1]])\n"
     ]
    }
   ],
   "source": [
    "T_spong = sympy.Matrix([\n",
    "    [(-sin(q1)*sin(q2) + cos(q1)*cos(q2))*cos(q4) + (sin(q1)*cos(q2) + sin(q2)*cos(q1))*sin(q4), \n",
    "     -(-sin(q1)*sin(q2) + cos(q1)*cos(q2))*sin(q4) + (sin(q1)*cos(q2) + sin(q2)*cos(q1))*cos(q4), \n",
    "     0, a1*cos(q1) - a2*sin(q1)*sin(q2) + a2*cos(q1)*cos(q2)],\n",
    "    [(sin(q1)*sin(q2) - cos(q1)*cos(q2))*sin(q4) + (sin(q1)*cos(q2) + sin(q2)*cos(q1))*cos(q4),\n",
    "     (sin(q1)*sin(q2) - cos(q1)*cos(q2))*cos(q4) - (sin(q1)*cos(q2) + sin(q2)*cos(q1))*sin(q4),\n",
    "     0, a1*sin(q1) + a2*sin(q1)*cos(q2) + a2*sin(q2)*cos(q1)],\n",
    "    [0, 0, -1, -d4 - q3],\n",
    "    [0, 0, 0, 1]])\n",
    "\n",
    "print(scara_geo.T[-1])\n",
    "\n",
    "assert (scara_geo.T[-1] - T_spong).expand() == sympy.zeros(4)"
   ]
  },
  {
   "cell_type": "code",
   "execution_count": 5,
   "id": "70f1cf25",
   "metadata": {},
   "outputs": [
    {
     "name": "stdout",
     "output_type": "stream",
     "text": [
      "Matrix([[-a1*sin(q1) - a2*sin(q1)*cos(q2) - a2*sin(q2)*cos(q1), -a2*sin(q1)*cos(q2) - a2*sin(q2)*cos(q1), 0, 0], [a1*cos(q1) - a2*sin(q1)*sin(q2) + a2*cos(q1)*cos(q2), -a2*sin(q1)*sin(q2) + a2*cos(q1)*cos(q2), 0, 0], [0, 0, -1, 0], [0, 0, 0, 0], [0, 0, 0, 0], [1, 1, 0, -1]])\n"
     ]
    }
   ],
   "source": [
    "J_spong = sympy.Matrix(\n",
    "    [[-a1*sin(q1) - a2*sin(q1)*cos(q2) - a2*sin(q2)*cos(q1), -a2*sin(q1)*cos(q2) - a2*sin(q2)*cos(q1), 0, 0],\n",
    "     [a1*cos(q1) - a2*sin(q1)*sin(q2) + a2*cos(q1)*cos(q2), -a2*sin(q1)*sin(q2) + a2*cos(q1)*cos(q2), 0, 0],\n",
    "     [0, 0, -1, 0],\n",
    "     [0, 0, 0, 0],\n",
    "     [0, 0, 0, 0],\n",
    "     [1, 1, 0, -1]])\n",
    "\n",
    "print(scara_kin.J[-1])\n",
    "\n",
    "assert (scara_kin.J[-1] - J_spong).expand() == sympy.zeros(6, 4)"
   ]
  }
 ],
 "metadata": {
  "kernelspec": {
   "display_name": "py38",
   "language": "python",
   "name": "py38"
  },
  "language_info": {
   "codemirror_mode": {
    "name": "ipython",
    "version": 3
   },
   "file_extension": ".py",
   "mimetype": "text/x-python",
   "name": "python",
   "nbconvert_exporter": "python",
   "pygments_lexer": "ipython3",
   "version": "3.8.12"
  }
 },
 "nbformat": 4,
 "nbformat_minor": 5
}
