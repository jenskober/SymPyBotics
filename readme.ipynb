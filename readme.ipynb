{
 "cells": [
  {
   "cell_type": "markdown",
   "id": "4fa1e4bf",
   "metadata": {},
   "source": [
    "SymPyBotics\n",
    "===========\n",
    "\n",
    "Symbolic Framework for Modeling and Identification of Robot Dynamics\n",
    "\n",
    "Uses [Sympy](http://sympy.org) and [Numpy](http://www.numpy.org/) libraries.\n",
    "\n",
    "[![Build Status](https://travis-ci.org/cdsousa/SymPyBotics.png?branch=master)](https://travis-ci.org/cdsousa/SymPyBotics)\n",
    "\n",
    "##### Citation:\n",
    "[![DOI](https://zenodo.org/badge/920/cdsousa/SymPyBotics.png)](http://dx.doi.org/10.5281/zenodo.11365)"
   ]
  },
  {
   "cell_type": "markdown",
   "id": "ba300079",
   "metadata": {},
   "source": [
    "\n",
    "Example\n",
    "-------\n",
    "\n",
    "Definition of a 2 DOF example robot:"
   ]
  },
  {
   "cell_type": "code",
   "execution_count": 1,
   "id": "7dfcbe4d",
   "metadata": {},
   "outputs": [],
   "source": [
    "import sympy\n",
    "import sympybotics"
   ]
  },
  {
   "cell_type": "code",
   "execution_count": 2,
   "id": "38d8bae7",
   "metadata": {},
   "outputs": [],
   "source": [
    "rbtdef = sympybotics.RobotDef('Example Robot', # robot name\n",
    "                               [('-pi/2', 0, 0, 'q+pi/2'),  # list of tuples with Denavit-Hartenberg parameters\n",
    "                                ( 'pi/2', 0, 0, 'q-pi/2')], # (alpha, a, d, theta)\n",
    "                               dh_convention='standard' # either 'standard' or 'modified'\n",
    "                              )"
   ]
  },
  {
   "cell_type": "code",
   "execution_count": 3,
   "id": "6b3b79ed",
   "metadata": {},
   "outputs": [],
   "source": [
    "rbtdef.frictionmodel = {'Coulomb', 'viscous'} # options are None or a combination of 'Coulomb', 'viscous' and 'offset'\n",
    "rbtdef.gravityacc = sympy.Matrix([0.0, 0.0, -9.81]) # optional, this is the default value"
   ]
  },
  {
   "cell_type": "markdown",
   "id": "9e50a965",
   "metadata": {},
   "source": [
    "`L` is the link inertia tensor computed about the link frame;\n",
    "`l` is the link first moment of inertia;\n",
    "`m` is the link mass.\n",
    "These are the so-called barycentric parameters, with respect to which the dynamic model is linear.\n",
    "\n",
    "\n",
    "Generation of geometric, kinematic and dynamic models:"
   ]
  },
  {
   "cell_type": "code",
   "execution_count": 4,
   "id": "c6fc0f61",
   "metadata": {},
   "outputs": [
    {
     "data": {
      "text/plain": [
       "[L_1xx,\n",
       " L_1xy,\n",
       " L_1xz,\n",
       " L_1yy,\n",
       " L_1yz,\n",
       " L_1zz,\n",
       " l_1x,\n",
       " l_1y,\n",
       " l_1z,\n",
       " m_1,\n",
       " fv_1,\n",
       " fc_1,\n",
       " L_2xx,\n",
       " L_2xy,\n",
       " L_2xz,\n",
       " L_2yy,\n",
       " L_2yz,\n",
       " L_2zz,\n",
       " l_2x,\n",
       " l_2y,\n",
       " l_2z,\n",
       " m_2,\n",
       " fv_2,\n",
       " fc_2]"
      ]
     },
     "execution_count": 4,
     "metadata": {},
     "output_type": "execute_result"
    }
   ],
   "source": [
    "rbtdef.dynparms()"
   ]
  },
  {
   "cell_type": "code",
   "execution_count": 5,
   "id": "7a995d98",
   "metadata": {},
   "outputs": [
    {
     "name": "stdout",
     "output_type": "stream",
     "text": [
      "generating geometric model\n",
      "generating forward kinematics code: transformation matrix\n",
      "generating forward kinematics code: position vector\n",
      "generating forward kinematics code: rotation matrix\n",
      "generating kinematic model\n",
      "generating jacobian code\n",
      "generating dynamics model\n",
      "generating inverse dynamics code\n",
      "generating gravity term code\n",
      "generating coriolis term code\n",
      "generating coriolis matrix code\n",
      "generating inertia matrix code\n",
      "generating regressor matrix code\n",
      "generating friction term code\n",
      "done\n"
     ]
    }
   ],
   "source": [
    "rbt = sympybotics.RobotDynCode(rbtdef, verbose=True)"
   ]
  },
  {
   "cell_type": "code",
   "execution_count": 6,
   "id": "ef8861d1",
   "metadata": {},
   "outputs": [
    {
     "data": {
      "text/latex": [
       "$\\displaystyle \\left[\\begin{matrix}- \\sin{\\left(q_{1} \\right)} \\sin{\\left(q_{2} \\right)} & - \\cos{\\left(q_{1} \\right)} & \\sin{\\left(q_{1} \\right)} \\cos{\\left(q_{2} \\right)} & 0\\\\\\sin{\\left(q_{2} \\right)} \\cos{\\left(q_{1} \\right)} & - \\sin{\\left(q_{1} \\right)} & - \\cos{\\left(q_{1} \\right)} \\cos{\\left(q_{2} \\right)} & 0\\\\\\cos{\\left(q_{2} \\right)} & 0 & \\sin{\\left(q_{2} \\right)} & 0\\\\0 & 0 & 0 & 1\\end{matrix}\\right]$"
      ],
      "text/plain": [
       "Matrix([\n",
       "[-sin(q1)*sin(q2), -cos(q1),  sin(q1)*cos(q2), 0],\n",
       "[ sin(q2)*cos(q1), -sin(q1), -cos(q1)*cos(q2), 0],\n",
       "[         cos(q2),        0,          sin(q2), 0],\n",
       "[               0,        0,                0, 1]])"
      ]
     },
     "execution_count": 6,
     "metadata": {},
     "output_type": "execute_result"
    }
   ],
   "source": [
    "rbt.geo.T[-1]"
   ]
  },
  {
   "cell_type": "code",
   "execution_count": 7,
   "id": "4886d0c0",
   "metadata": {},
   "outputs": [
    {
     "data": {
      "text/latex": [
       "$\\displaystyle \\left[\\begin{matrix}0 & 0\\\\0 & 0\\\\0 & 0\\\\0 & - \\cos{\\left(q_{1} \\right)}\\\\0 & - \\sin{\\left(q_{1} \\right)}\\\\1 & 0\\end{matrix}\\right]$"
      ],
      "text/plain": [
       "Matrix([\n",
       "[0,        0],\n",
       "[0,        0],\n",
       "[0,        0],\n",
       "[0, -cos(q1)],\n",
       "[0, -sin(q1)],\n",
       "[1,        0]])"
      ]
     },
     "execution_count": 7,
     "metadata": {},
     "output_type": "execute_result"
    }
   ],
   "source": [
    "rbt.kin.J[-1]"
   ]
  },
  {
   "cell_type": "markdown",
   "id": "ebb730ec",
   "metadata": {},
   "source": [
    "C function generation:"
   ]
  },
  {
   "cell_type": "code",
   "execution_count": 8,
   "id": "d9276763",
   "metadata": {
    "scrolled": true
   },
   "outputs": [],
   "source": [
    "tau_str = sympybotics.robotcodegen.robot_code_to_func('C', rbt.invdyn_code, 'tau_out', 'tau', rbtdef)"
   ]
  },
  {
   "cell_type": "markdown",
   "id": "de4a4dc2",
   "metadata": {},
   "source": [
    "Doing print(tau_str), function code will be output:"
   ]
  },
  {
   "cell_type": "code",
   "execution_count": 9,
   "id": "49f55016",
   "metadata": {},
   "outputs": [
    {
     "name": "stdout",
     "output_type": "stream",
     "text": [
      "void tau( double* tau_out, const double* parms, const double* q, const double* dq, const double* ddq )\n",
      "{\n",
      "  double x0 = -ddq[0];\n",
      "  double x1 = sin(q[1]);\n",
      "  double x2 = dq[0];\n",
      "  double x3 = x1*x2;\n",
      "  double x4 = -x3;\n",
      "  double x5 = cos(q[1]);\n",
      "  double x6 = -x0;\n",
      "  double x7 = dq[1]*x4 + x5*x6;\n",
      "  double x8 = x2*x5;\n",
      "  double x9 = dq[1]*x8 + x1*x6;\n",
      "  double x10 = dq[1]*parms[16] + parms[14]*x8 + parms[17]*x3;\n",
      "  double x11 = 9.8100000000000005*x1;\n",
      "  double x12 = dq[1]*parms[15] + parms[13]*x8 + parms[16]*x3;\n",
      "  double x13 = dq[1]*parms[13] + parms[12]*x8 + parms[14]*x3;\n",
      "  double x14 = 9.8100000000000005*x5;\n",
      "//\n",
      "  tau_out[0] = dq[0]*parms[10] + parms[11]*(((dq[0]) > 0) - ((dq[0]) < 0)) - parms[3]*x0 + x1*(ddq[1]*parms[16] - dq[1]*x13 + parms[14]*x7 + parms[17]*x9 - parms[19]*x14 + x12*x8) + x5*(ddq[1]*parms[13] + dq[1]*x10 + parms[12]*x7 + parms[14]*x9 + parms[19]*x11 + x12*x4);\n",
      "  tau_out[1] = ddq[1]*parms[15] + dq[1]*parms[22] + parms[13]*x7 + parms[16]*x9 - parms[18]*x11 + parms[20]*x14 + parms[23]*(((dq[1]) > 0) - ((dq[1]) < 0)) - x10*x8 + x13*x3;\n",
      "//\n",
      "  return;\n",
      "}\n"
     ]
    }
   ],
   "source": [
    "print(tau_str)"
   ]
  },
  {
   "cell_type": "markdown",
   "id": "ac3990ff",
   "metadata": {},
   "source": [
    "Dynamic base parameters:"
   ]
  },
  {
   "cell_type": "code",
   "execution_count": 10,
   "id": "e31ada50",
   "metadata": {
    "scrolled": true
   },
   "outputs": [
    {
     "name": "stdout",
     "output_type": "stream",
     "text": [
      "calculating base parameters and regressor code\n",
      "done\n"
     ]
    },
    {
     "data": {
      "text/latex": [
       "$\\displaystyle \\left[\\begin{matrix}L_{1yy} + L_{2zz}\\\\fv_{1}\\\\fc_{1}\\\\L_{2xx} - L_{2zz}\\\\L_{2xy}\\\\L_{2xz}\\\\L_{2yy}\\\\L_{2yz}\\\\l_{2x}\\\\l_{2z}\\\\fv_{2}\\\\fc_{2}\\end{matrix}\\right]$"
      ],
      "text/plain": [
       "Matrix([\n",
       "[L_1yy + L_2zz],\n",
       "[         fv_1],\n",
       "[         fc_1],\n",
       "[L_2xx - L_2zz],\n",
       "[        L_2xy],\n",
       "[        L_2xz],\n",
       "[        L_2yy],\n",
       "[        L_2yz],\n",
       "[         l_2x],\n",
       "[         l_2z],\n",
       "[         fv_2],\n",
       "[         fc_2]])"
      ]
     },
     "execution_count": 10,
     "metadata": {},
     "output_type": "execute_result"
    }
   ],
   "source": [
    "rbt.calc_base_parms(verbose=True)\n",
    "rbt.dyn.baseparms"
   ]
  },
  {
   "cell_type": "markdown",
   "id": "73c75550",
   "metadata": {},
   "source": [
    "Author\n",
    "------\n",
    "\n",
    "[Cristóvão Duarte Sousa](https://github.com/cdsousa)\n",
    "\n",
    "Install\n",
    "-------\n",
    "\n",
    "From git source:\n",
    "\n",
    "    git clone https://github.com/cdsousa/SymPyBotics.git\n",
    "    cd sympybotics\n",
    "    python setup.py install\n",
    "\n",
    "License\n",
    "-------\n",
    "\n",
    "New BSD license. See [License File](LICENSE.txt)\n"
   ]
  },
  {
   "cell_type": "code",
   "execution_count": null,
   "id": "f0ca976b",
   "metadata": {},
   "outputs": [],
   "source": []
  }
 ],
 "metadata": {
  "kernelspec": {
   "display_name": "py38",
   "language": "python",
   "name": "py38"
  },
  "language_info": {
   "codemirror_mode": {
    "name": "ipython",
    "version": 3
   },
   "file_extension": ".py",
   "mimetype": "text/x-python",
   "name": "python",
   "nbconvert_exporter": "python",
   "pygments_lexer": "ipython3",
   "version": "3.8.12"
  }
 },
 "nbformat": 4,
 "nbformat_minor": 5
}
